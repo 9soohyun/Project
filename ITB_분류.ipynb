{
 "cells": [
  {
   "cell_type": "code",
   "execution_count": 1,
   "id": "ff9a856c",
   "metadata": {},
   "outputs": [],
   "source": [
    "#패키지 import\n",
    "import pandas as pd\n",
    "import seaborn as sns\n",
    "import matplotlib.pyplot as plt\n",
    "\n",
    "import warnings\n",
    "warnings.filterwarnings(action='ignore')"
   ]
  },
  {
   "cell_type": "code",
   "execution_count": 2,
   "id": "4a36a284",
   "metadata": {},
   "outputs": [],
   "source": [
    "#데이터읽기\n",
    "df = pd.read_csv(\"https://raw.githubusercontent.com/9soohyun/22-2-ITB/main/Visualization/health_data.csv\")"
   ]
  },
  {
   "cell_type": "code",
   "execution_count": 3,
   "id": "2f881b83",
   "metadata": {},
   "outputs": [
    {
     "data": {
      "text/html": [
       "<div>\n",
       "<style scoped>\n",
       "    .dataframe tbody tr th:only-of-type {\n",
       "        vertical-align: middle;\n",
       "    }\n",
       "\n",
       "    .dataframe tbody tr th {\n",
       "        vertical-align: top;\n",
       "    }\n",
       "\n",
       "    .dataframe thead th {\n",
       "        text-align: right;\n",
       "    }\n",
       "</style>\n",
       "<table border=\"1\" class=\"dataframe\">\n",
       "  <thead>\n",
       "    <tr style=\"text-align: right;\">\n",
       "      <th></th>\n",
       "      <th>기준년도</th>\n",
       "      <th>가입자일련번호</th>\n",
       "      <th>시도코드</th>\n",
       "      <th>성별코드</th>\n",
       "      <th>연령대코드(5세단위)</th>\n",
       "      <th>신장(5Cm단위)</th>\n",
       "      <th>체중(5Kg 단위)</th>\n",
       "      <th>허리둘레</th>\n",
       "      <th>시력(좌)</th>\n",
       "      <th>시력(우)</th>\n",
       "      <th>...</th>\n",
       "      <th>혈청크레아티닌</th>\n",
       "      <th>(혈청지오티)AST</th>\n",
       "      <th>(혈청지오티)ALT</th>\n",
       "      <th>감마지티피</th>\n",
       "      <th>흡연상태</th>\n",
       "      <th>음주여부</th>\n",
       "      <th>구강검진수검여부</th>\n",
       "      <th>치아우식증유무</th>\n",
       "      <th>치석</th>\n",
       "      <th>데이터공개일자</th>\n",
       "    </tr>\n",
       "  </thead>\n",
       "  <tbody>\n",
       "    <tr>\n",
       "      <th>0</th>\n",
       "      <td>2020</td>\n",
       "      <td>1</td>\n",
       "      <td>36</td>\n",
       "      <td>M</td>\n",
       "      <td>9</td>\n",
       "      <td>165</td>\n",
       "      <td>60</td>\n",
       "      <td>72.1</td>\n",
       "      <td>1.2</td>\n",
       "      <td>1.5</td>\n",
       "      <td>...</td>\n",
       "      <td>1.1</td>\n",
       "      <td>21.0</td>\n",
       "      <td>27.0</td>\n",
       "      <td>21.0</td>\n",
       "      <td>No</td>\n",
       "      <td>No</td>\n",
       "      <td>0</td>\n",
       "      <td>NaN</td>\n",
       "      <td>NaN</td>\n",
       "      <td>12/29/2021</td>\n",
       "    </tr>\n",
       "    <tr>\n",
       "      <th>1</th>\n",
       "      <td>2020</td>\n",
       "      <td>2</td>\n",
       "      <td>27</td>\n",
       "      <td>F</td>\n",
       "      <td>13</td>\n",
       "      <td>150</td>\n",
       "      <td>65</td>\n",
       "      <td>81.0</td>\n",
       "      <td>0.8</td>\n",
       "      <td>0.8</td>\n",
       "      <td>...</td>\n",
       "      <td>0.5</td>\n",
       "      <td>18.0</td>\n",
       "      <td>15.0</td>\n",
       "      <td>15.0</td>\n",
       "      <td>No</td>\n",
       "      <td>No</td>\n",
       "      <td>0</td>\n",
       "      <td>NaN</td>\n",
       "      <td>NaN</td>\n",
       "      <td>12/29/2021</td>\n",
       "    </tr>\n",
       "    <tr>\n",
       "      <th>2</th>\n",
       "      <td>2020</td>\n",
       "      <td>3</td>\n",
       "      <td>11</td>\n",
       "      <td>F</td>\n",
       "      <td>12</td>\n",
       "      <td>155</td>\n",
       "      <td>55</td>\n",
       "      <td>70.0</td>\n",
       "      <td>0.6</td>\n",
       "      <td>0.7</td>\n",
       "      <td>...</td>\n",
       "      <td>0.7</td>\n",
       "      <td>27.0</td>\n",
       "      <td>25.0</td>\n",
       "      <td>7.0</td>\n",
       "      <td>No</td>\n",
       "      <td>No</td>\n",
       "      <td>0</td>\n",
       "      <td>NaN</td>\n",
       "      <td>NaN</td>\n",
       "      <td>12/29/2021</td>\n",
       "    </tr>\n",
       "    <tr>\n",
       "      <th>3</th>\n",
       "      <td>2020</td>\n",
       "      <td>4</td>\n",
       "      <td>31</td>\n",
       "      <td>M</td>\n",
       "      <td>13</td>\n",
       "      <td>160</td>\n",
       "      <td>70</td>\n",
       "      <td>90.8</td>\n",
       "      <td>1.0</td>\n",
       "      <td>1.0</td>\n",
       "      <td>...</td>\n",
       "      <td>1.2</td>\n",
       "      <td>65.0</td>\n",
       "      <td>97.0</td>\n",
       "      <td>72.0</td>\n",
       "      <td>No</td>\n",
       "      <td>No</td>\n",
       "      <td>1</td>\n",
       "      <td>0.0</td>\n",
       "      <td>0.0</td>\n",
       "      <td>12/29/2021</td>\n",
       "    </tr>\n",
       "    <tr>\n",
       "      <th>4</th>\n",
       "      <td>2020</td>\n",
       "      <td>5</td>\n",
       "      <td>41</td>\n",
       "      <td>F</td>\n",
       "      <td>12</td>\n",
       "      <td>155</td>\n",
       "      <td>50</td>\n",
       "      <td>75.2</td>\n",
       "      <td>1.5</td>\n",
       "      <td>1.2</td>\n",
       "      <td>...</td>\n",
       "      <td>0.7</td>\n",
       "      <td>18.0</td>\n",
       "      <td>17.0</td>\n",
       "      <td>14.0</td>\n",
       "      <td>No</td>\n",
       "      <td>No</td>\n",
       "      <td>0</td>\n",
       "      <td>NaN</td>\n",
       "      <td>NaN</td>\n",
       "      <td>12/29/2021</td>\n",
       "    </tr>\n",
       "  </tbody>\n",
       "</table>\n",
       "<p>5 rows × 31 columns</p>\n",
       "</div>"
      ],
      "text/plain": [
       "   기준년도  가입자일련번호  시도코드 성별코드  연령대코드(5세단위)  신장(5Cm단위)  체중(5Kg 단위)  허리둘레  시력(좌)  \\\n",
       "0  2020        1    36    M            9        165          60  72.1    1.2   \n",
       "1  2020        2    27    F           13        150          65  81.0    0.8   \n",
       "2  2020        3    11    F           12        155          55  70.0    0.6   \n",
       "3  2020        4    31    M           13        160          70  90.8    1.0   \n",
       "4  2020        5    41    F           12        155          50  75.2    1.5   \n",
       "\n",
       "   시력(우)  ...  혈청크레아티닌  (혈청지오티)AST  (혈청지오티)ALT  감마지티피  흡연상태  음주여부  구강검진수검여부  \\\n",
       "0    1.5  ...      1.1        21.0        27.0   21.0    No    No         0   \n",
       "1    0.8  ...      0.5        18.0        15.0   15.0    No    No         0   \n",
       "2    0.7  ...      0.7        27.0        25.0    7.0    No    No         0   \n",
       "3    1.0  ...      1.2        65.0        97.0   72.0    No    No         1   \n",
       "4    1.2  ...      0.7        18.0        17.0   14.0    No    No         0   \n",
       "\n",
       "   치아우식증유무   치석     데이터공개일자  \n",
       "0      NaN  NaN  12/29/2021  \n",
       "1      NaN  NaN  12/29/2021  \n",
       "2      NaN  NaN  12/29/2021  \n",
       "3      0.0  0.0  12/29/2021  \n",
       "4      NaN  NaN  12/29/2021  \n",
       "\n",
       "[5 rows x 31 columns]"
      ]
     },
     "execution_count": 3,
     "metadata": {},
     "output_type": "execute_result"
    }
   ],
   "source": [
    "#데이터 확인\n",
    "df.head()"
   ]
  },
  {
   "cell_type": "code",
   "execution_count": 4,
   "id": "1e785708",
   "metadata": {},
   "outputs": [
    {
     "data": {
      "text/plain": [
       "(10000, 31)"
      ]
     },
     "execution_count": 4,
     "metadata": {},
     "output_type": "execute_result"
    }
   ],
   "source": [
    "df.shape"
   ]
  },
  {
   "cell_type": "code",
   "execution_count": 5,
   "id": "8d3230ef",
   "metadata": {},
   "outputs": [
    {
     "name": "stdout",
     "output_type": "stream",
     "text": [
      "<class 'pandas.core.frame.DataFrame'>\n",
      "RangeIndex: 10000 entries, 0 to 9999\n",
      "Data columns (total 31 columns):\n",
      " #   Column       Non-Null Count  Dtype  \n",
      "---  ------       --------------  -----  \n",
      " 0   기준년도         10000 non-null  int64  \n",
      " 1   가입자일련번호      10000 non-null  int64  \n",
      " 2   시도코드         10000 non-null  int64  \n",
      " 3   성별코드         10000 non-null  object \n",
      " 4   연령대코드(5세단위)  10000 non-null  int64  \n",
      " 5   신장(5Cm단위)    10000 non-null  int64  \n",
      " 6   체중(5Kg 단위)   10000 non-null  int64  \n",
      " 7   허리둘레         10000 non-null  float64\n",
      " 8   시력(좌)        10000 non-null  float64\n",
      " 9   시력(우)        10000 non-null  float64\n",
      " 10  청력(좌)        10000 non-null  int64  \n",
      " 11  청력(우)        10000 non-null  int64  \n",
      " 12  수축기혈압        9912 non-null   float64\n",
      " 13  이완기혈압        9912 non-null   float64\n",
      " 14  식전혈당(공복혈당)   9912 non-null   float64\n",
      " 15  총콜레스테롤       4044 non-null   float64\n",
      " 16  트리글리세라이드     4044 non-null   float64\n",
      " 17  HDL콜레스테롤     4044 non-null   float64\n",
      " 18  LDL콜레스테롤     3977 non-null   float64\n",
      " 19  혈색소          9912 non-null   float64\n",
      " 20  요단백          9861 non-null   float64\n",
      " 21  혈청크레아티닌      9912 non-null   float64\n",
      " 22  (혈청지오티)AST   9912 non-null   float64\n",
      " 23  (혈청지오티)ALT   9912 non-null   float64\n",
      " 24  감마지티피        9912 non-null   float64\n",
      " 25  흡연상태         9998 non-null   object \n",
      " 26  음주여부         9999 non-null   object \n",
      " 27  구강검진수검여부     10000 non-null  int64  \n",
      " 28  치아우식증유무      3251 non-null   float64\n",
      " 29  치석           3251 non-null   float64\n",
      " 30  데이터공개일자      10000 non-null  object \n",
      "dtypes: float64(18), int64(9), object(4)\n",
      "memory usage: 2.4+ MB\n"
     ]
    }
   ],
   "source": [
    "#데이터 정보 확인\n",
    "df.info()"
   ]
  },
  {
   "cell_type": "code",
   "execution_count": 6,
   "id": "4e4778ea",
   "metadata": {},
   "outputs": [],
   "source": [
    "#의미없는 칼럼 삭제\n",
    "df = df.drop(['기준년도', '가입자일련번호', '데이터공개일자'], axis=1)"
   ]
  },
  {
   "cell_type": "code",
   "execution_count": 7,
   "id": "8107e2ee",
   "metadata": {},
   "outputs": [
    {
     "name": "stdout",
     "output_type": "stream",
     "text": [
      "<class 'pandas.core.frame.DataFrame'>\n",
      "RangeIndex: 10000 entries, 0 to 9999\n",
      "Data columns (total 28 columns):\n",
      " #   Column       Non-Null Count  Dtype  \n",
      "---  ------       --------------  -----  \n",
      " 0   시도코드         10000 non-null  int64  \n",
      " 1   성별코드         10000 non-null  object \n",
      " 2   연령대코드(5세단위)  10000 non-null  int64  \n",
      " 3   신장(5Cm단위)    10000 non-null  int64  \n",
      " 4   체중(5Kg 단위)   10000 non-null  int64  \n",
      " 5   허리둘레         10000 non-null  float64\n",
      " 6   시력(좌)        10000 non-null  float64\n",
      " 7   시력(우)        10000 non-null  float64\n",
      " 8   청력(좌)        10000 non-null  int64  \n",
      " 9   청력(우)        10000 non-null  int64  \n",
      " 10  수축기혈압        9912 non-null   float64\n",
      " 11  이완기혈압        9912 non-null   float64\n",
      " 12  식전혈당(공복혈당)   9912 non-null   float64\n",
      " 13  총콜레스테롤       4044 non-null   float64\n",
      " 14  트리글리세라이드     4044 non-null   float64\n",
      " 15  HDL콜레스테롤     4044 non-null   float64\n",
      " 16  LDL콜레스테롤     3977 non-null   float64\n",
      " 17  혈색소          9912 non-null   float64\n",
      " 18  요단백          9861 non-null   float64\n",
      " 19  혈청크레아티닌      9912 non-null   float64\n",
      " 20  (혈청지오티)AST   9912 non-null   float64\n",
      " 21  (혈청지오티)ALT   9912 non-null   float64\n",
      " 22  감마지티피        9912 non-null   float64\n",
      " 23  흡연상태         9998 non-null   object \n",
      " 24  음주여부         9999 non-null   object \n",
      " 25  구강검진수검여부     10000 non-null  int64  \n",
      " 26  치아우식증유무      3251 non-null   float64\n",
      " 27  치석           3251 non-null   float64\n",
      "dtypes: float64(18), int64(7), object(3)\n",
      "memory usage: 2.1+ MB\n"
     ]
    }
   ],
   "source": [
    "df.info()"
   ]
  },
  {
   "cell_type": "code",
   "execution_count": 8,
   "id": "e1f18eed",
   "metadata": {},
   "outputs": [
    {
     "data": {
      "text/plain": [
       "시도코드              0\n",
       "성별코드              0\n",
       "연령대코드(5세단위)       0\n",
       "신장(5Cm단위)         0\n",
       "체중(5Kg 단위)        0\n",
       "허리둘레              0\n",
       "시력(좌)             0\n",
       "시력(우)             0\n",
       "청력(좌)             0\n",
       "청력(우)             0\n",
       "수축기혈압            88\n",
       "이완기혈압            88\n",
       "식전혈당(공복혈당)       88\n",
       "총콜레스테롤         5956\n",
       "트리글리세라이드       5956\n",
       "HDL콜레스테롤       5956\n",
       "LDL콜레스테롤       6023\n",
       "혈색소              88\n",
       "요단백             139\n",
       "혈청크레아티닌          88\n",
       "(혈청지오티)AST       88\n",
       "(혈청지오티)ALT       88\n",
       "감마지티피            88\n",
       "흡연상태              2\n",
       "음주여부              1\n",
       "구강검진수검여부          0\n",
       "치아우식증유무        6749\n",
       "치석             6749\n",
       "dtype: int64"
      ]
     },
     "execution_count": 8,
     "metadata": {},
     "output_type": "execute_result"
    }
   ],
   "source": [
    "# 결측치 개수 확인\n",
    "df.isnull().sum()"
   ]
  },
  {
   "cell_type": "code",
   "execution_count": 9,
   "id": "36ddcec3",
   "metadata": {},
   "outputs": [
    {
     "data": {
      "text/plain": [
       "<AxesSubplot:>"
      ]
     },
     "execution_count": 9,
     "metadata": {},
     "output_type": "execute_result"
    },
    {
     "data": {
      "image/png": "[encoded data removed]",
      "text/plain": [
       "<Figure size 2160x720 with 2 Axes>"
      ]
     },
     "metadata": {
      "needs_background": "light"
     },
     "output_type": "display_data"
    }
   ],
   "source": [
    "#결측치 시각화\n",
    "import missingno as msno\n",
    "import matplotlib as mat\n",
    "#한글폰트 나눔스퀘어 지정\n",
    "mat.rcParams['font.family'] = 'NanumSquare'\n",
    "\n",
    "msno.matrix(df, figsize=(30,10))"
   ]
  },
  {
   "cell_type": "code",
   "execution_count": 10,
   "id": "8ec9d6e5",
   "metadata": {},
   "outputs": [
    {
     "name": "stdout",
     "output_type": "stream",
     "text": [
      "column:       시도코드\t Percent of NaN value: 0.00%\n",
      "column:       성별코드\t Percent of NaN value: 0.00%\n",
      "column: 연령대코드(5세단위)\t Percent of NaN value: 0.00%\n",
      "column:  신장(5Cm단위)\t Percent of NaN value: 0.00%\n",
      "column: 체중(5Kg 단위)\t Percent of NaN value: 0.00%\n",
      "column:       허리둘레\t Percent of NaN value: 0.00%\n",
      "column:      시력(좌)\t Percent of NaN value: 0.00%\n",
      "column:      시력(우)\t Percent of NaN value: 0.00%\n",
      "column:      청력(좌)\t Percent of NaN value: 0.00%\n",
      "column:      청력(우)\t Percent of NaN value: 0.00%\n",
      "column:      수축기혈압\t Percent of NaN value: 0.88%\n",
      "column:      이완기혈압\t Percent of NaN value: 0.88%\n",
      "column: 식전혈당(공복혈당)\t Percent of NaN value: 0.88%\n",
      "column:     총콜레스테롤\t Percent of NaN value: 59.56%\n",
      "column:   트리글리세라이드\t Percent of NaN value: 59.56%\n",
      "column:   HDL콜레스테롤\t Percent of NaN value: 59.56%\n",
      "column:   LDL콜레스테롤\t Percent of NaN value: 60.23%\n",
      "column:        혈색소\t Percent of NaN value: 0.88%\n",
      "column:        요단백\t Percent of NaN value: 1.39%\n",
      "column:    혈청크레아티닌\t Percent of NaN value: 0.88%\n",
      "column: (혈청지오티)AST\t Percent of NaN value: 0.88%\n",
      "column: (혈청지오티)ALT\t Percent of NaN value: 0.88%\n",
      "column:      감마지티피\t Percent of NaN value: 0.88%\n",
      "column:       흡연상태\t Percent of NaN value: 0.02%\n",
      "column:       음주여부\t Percent of NaN value: 0.01%\n",
      "column:   구강검진수검여부\t Percent of NaN value: 0.00%\n",
      "column:    치아우식증유무\t Percent of NaN value: 67.49%\n",
      "column:         치석\t Percent of NaN value: 67.49%\n"
     ]
    }
   ],
   "source": [
    "#칼럼별 결측치 비율 확인\n",
    "for col in df.columns:\n",
    "    na = 'column: {:>10}\\t Percent of NaN value: {:.2f}%'.format(col, 100 * (df[col].isnull().sum() / df[col].shape[0]))\n",
    "    print(na)"
   ]
  },
  {
   "cell_type": "code",
   "execution_count": 11,
   "id": "8c78427a",
   "metadata": {},
   "outputs": [],
   "source": [
    "#결측치 비율 50%이상 칼럼 삭제\n",
    "df2 = df.drop(['총콜레스테롤', '트리글리세라이드', 'HDL콜레스테롤', 'LDL콜레스테롤', '치아우식증유무', '치석'], axis=1)"
   ]
  },
  {
   "cell_type": "code",
   "execution_count": 12,
   "id": "494b0800",
   "metadata": {},
   "outputs": [],
   "source": [
    "#결측치 존재 행 전체 삭제 (칼럼별 결측치 비율1%미만)\n",
    "df3 = df2.dropna(axis=0)"
   ]
  },
  {
   "cell_type": "code",
   "execution_count": 13,
   "id": "9cd4957c",
   "metadata": {},
   "outputs": [
    {
     "data": {
      "text/plain": [
       "시도코드           0\n",
       "성별코드           0\n",
       "연령대코드(5세단위)    0\n",
       "신장(5Cm단위)      0\n",
       "체중(5Kg 단위)     0\n",
       "허리둘레           0\n",
       "시력(좌)          0\n",
       "시력(우)          0\n",
       "청력(좌)          0\n",
       "청력(우)          0\n",
       "수축기혈압          0\n",
       "이완기혈압          0\n",
       "식전혈당(공복혈당)     0\n",
       "혈색소            0\n",
       "요단백            0\n",
       "혈청크레아티닌        0\n",
       "(혈청지오티)AST     0\n",
       "(혈청지오티)ALT     0\n",
       "감마지티피          0\n",
       "흡연상태           0\n",
       "음주여부           0\n",
       "구강검진수검여부       0\n",
       "dtype: int64"
      ]
     },
     "execution_count": 13,
     "metadata": {},
     "output_type": "execute_result"
    }
   ],
   "source": [
    "#결측치 확인\n",
    "df3.isnull().sum()"
   ]
  },
  {
   "cell_type": "code",
   "execution_count": 14,
   "id": "1b1ad7cb",
   "metadata": {},
   "outputs": [
    {
     "name": "stdout",
     "output_type": "stream",
     "text": [
      "Label mapping: 성별코드\n",
      "F -> 0\n",
      "M -> 1\n",
      "0    1\n",
      "1    0\n",
      "2    0\n",
      "3    1\n",
      "4    0\n",
      "Name: 성별코드, dtype: int32\n",
      "Label mapping: 흡연상태\n",
      "No -> 0\n",
      "NotNow -> 1\n",
      "Yes -> 2\n",
      "0    0\n",
      "1    0\n",
      "2    0\n",
      "3    0\n",
      "4    0\n",
      "Name: 흡연상태, dtype: int32\n",
      "Label mapping: 음주여부\n",
      "No -> 0\n",
      "Yes -> 1\n",
      "0    0\n",
      "1    0\n",
      "2    0\n",
      "3    0\n",
      "4    0\n",
      "Name: 음주여부, dtype: int32\n"
     ]
    }
   ],
   "source": [
    "#라벨인코딩\n",
    "from sklearn.preprocessing import LabelEncoder\n",
    "encoder = LabelEncoder()\n",
    "df_col = ['성별코드', '흡연상태', '음주여부']\n",
    "for col in df_col:\n",
    "    labels = encoder.fit_transform(df3[col])\n",
    "    print(\"Label mapping:\", col)\n",
    "    for i, j in enumerate(encoder.classes_):\n",
    "        print(j, '->', i)\n",
    "    df3[col]=labels\n",
    "    print(df3[col].head())"
   ]
  },
  {
   "cell_type": "code",
   "execution_count": 15,
   "id": "bb022d83",
   "metadata": {},
   "outputs": [
    {
     "data": {
      "text/plain": [
       "array([[<AxesSubplot:title={'center':'시도코드'}>,\n",
       "        <AxesSubplot:title={'center':'성별코드'}>,\n",
       "        <AxesSubplot:title={'center':'연령대코드(5세단위)'}>,\n",
       "        <AxesSubplot:title={'center':'신장(5Cm단위)'}>,\n",
       "        <AxesSubplot:title={'center':'체중(5Kg 단위)'}>],\n",
       "       [<AxesSubplot:title={'center':'허리둘레'}>,\n",
       "        <AxesSubplot:title={'center':'시력(좌)'}>,\n",
       "        <AxesSubplot:title={'center':'시력(우)'}>,\n",
       "        <AxesSubplot:title={'center':'청력(좌)'}>,\n",
       "        <AxesSubplot:title={'center':'청력(우)'}>],\n",
       "       [<AxesSubplot:title={'center':'수축기혈압'}>,\n",
       "        <AxesSubplot:title={'center':'이완기혈압'}>,\n",
       "        <AxesSubplot:title={'center':'식전혈당(공복혈당)'}>,\n",
       "        <AxesSubplot:title={'center':'혈색소'}>,\n",
       "        <AxesSubplot:title={'center':'요단백'}>],\n",
       "       [<AxesSubplot:title={'center':'혈청크레아티닌'}>,\n",
       "        <AxesSubplot:title={'center':'(혈청지오티)AST'}>,\n",
       "        <AxesSubplot:title={'center':'(혈청지오티)ALT'}>,\n",
       "        <AxesSubplot:title={'center':'감마지티피'}>,\n",
       "        <AxesSubplot:title={'center':'흡연상태'}>],\n",
       "       [<AxesSubplot:title={'center':'음주여부'}>,\n",
       "        <AxesSubplot:title={'center':'구강검진수검여부'}>, <AxesSubplot:>,\n",
       "        <AxesSubplot:>, <AxesSubplot:>]], dtype=object)"
      ]
     },
     "execution_count": 15,
     "metadata": {},
     "output_type": "execute_result"
    },
    {
     "data": {
      "image/png": "[encoded data removed]",
      "text/plain": [
       "<Figure size 1080x864 with 25 Axes>"
      ]
     },
     "metadata": {
      "needs_background": "light"
     },
     "output_type": "display_data"
    }
   ],
   "source": [
    "#칼럼별 분포 확인\n",
    "%matplotlib inline\n",
    "df3.hist(bins=50, figsize=(15, 12))"
   ]
  },
  {
   "cell_type": "code",
   "execution_count": 16,
   "id": "1361766d",
   "metadata": {},
   "outputs": [
    {
     "data": {
      "text/plain": [
       "(9858, 22)"
      ]
     },
     "execution_count": 16,
     "metadata": {},
     "output_type": "execute_result"
    }
   ],
   "source": [
    "df3.shape"
   ]
  },
  {
   "cell_type": "code",
   "execution_count": 17,
   "id": "14bb5129",
   "metadata": {},
   "outputs": [],
   "source": [
    "#'실명 데이터 값 변경 9.9 -> 0'\n",
    "df3 = df3.replace({'시력(좌)':9.9}, -1)\n",
    "df3 = df3.replace({'시력(우)':9.9}, -1)"
   ]
  },
  {
   "cell_type": "code",
   "execution_count": 18,
   "id": "4c2de478",
   "metadata": {},
   "outputs": [],
   "source": [
    "#신장질환 판정\n",
    "df3.loc[((df3['혈청크레아티닌'] <= 1.5)) , '신장질환'] = 0\n",
    "df3.loc[(df3['혈청크레아티닌'] > 1.5) , '신장질환'] =1"
   ]
  },
  {
   "cell_type": "code",
   "execution_count": 19,
   "id": "619abc2e",
   "metadata": {},
   "outputs": [],
   "source": [
    "#이상치 분포가 높은 5개 칼럼 스케일러 적용\n",
    "from sklearn.preprocessing import StandardScaler\n",
    "\n",
    "df_num = df3[['식전혈당(공복혈당)', '혈청크레아티닌', '(혈청지오티)AST', '(혈청지오티)ALT', '감마지티피']]\n",
    "sc = StandardScaler()\n",
    "df_num_sc = sc.fit_transform(df_num)\n",
    "df_num_sc = pd.DataFrame(df_num_sc, columns=df_num.columns)\n",
    "df_nn = df3[df3.columns.difference(['식전혈당(공복혈당)', '혈청크레아티닌', '(혈청지오티)AST', '(혈청지오티)ALT', '감마지티피'])]\n",
    "df_nn = df_nn.reset_index()\n",
    "df_nn = df_nn.drop(['index'], axis=1)\n",
    "df_sc = pd.concat([df_nn, df_num_sc], axis=1)"
   ]
  },
  {
   "cell_type": "code",
   "execution_count": 21,
   "id": "5152096f",
   "metadata": {},
   "outputs": [],
   "source": [
    "df_sc = df_sc.drop(['혈청크레아티닌'], axis=1)\n",
    "X = df_sc.drop(['신장질환'], axis=1)\n",
    "y = df_sc.iloc[:, 7]"
   ]
  },
  {
   "cell_type": "markdown",
   "id": "a97ca9ee",
   "metadata": {},
   "source": [
    "# SMOTE"
   ]
  },
  {
   "cell_type": "code",
   "execution_count": 44,
   "id": "ece454b9",
   "metadata": {},
   "outputs": [
    {
     "name": "stdout",
     "output_type": "stream",
     "text": [
      "label \"0(No)\"의 개수 : 9792\n",
      "label \"1(Yes)\"의 개수 : 66\n"
     ]
    }
   ],
   "source": [
    "print('label \"0(No)\"의 개수 : %s' % (sum(y == 0)))\n",
    "print('label \"1(Yes)\"의 개수 : %s' % (sum(y == 1)))"
   ]
  },
  {
   "cell_type": "code",
   "execution_count": 22,
   "id": "06dd7c22",
   "metadata": {},
   "outputs": [
    {
     "name": "stdout",
     "output_type": "stream",
     "text": [
      "label \"0(No)\"의 개수 : 9792\n",
      "label \"1(Yes)\"의 개수 : 9792\n"
     ]
    }
   ],
   "source": [
    "# 'No'의 데이터가 압도적으로 많아, 종속변수의 비율을 맞추기 위해 SMOTE 진행\n",
    "from imblearn.over_sampling import SMOTE\n",
    "\n",
    "X_smote, y_smote = SMOTE(random_state=10).fit_resample(X, y)\n",
    "\n",
    "print('label \"0(No)\"의 개수 : %s' % (sum(y_smote == 0)))\n",
    "print('label \"1(Yes)\"의 개수 : %s' % (sum(y_smote == 1)))"
   ]
  },
  {
   "cell_type": "code",
   "execution_count": 23,
   "id": "d7d62db1",
   "metadata": {},
   "outputs": [],
   "source": [
    "#데이터 분할\n",
    "from sklearn.model_selection import train_test_split\n",
    "\n",
    "X_train, X_test, y_train, y_test = train_test_split(X_smote, y_smote, test_size = 0.3, random_state = 10)"
   ]
  },
  {
   "cell_type": "code",
   "execution_count": 24,
   "id": "596be573",
   "metadata": {},
   "outputs": [],
   "source": [
    "from sklearn.metrics import confusion_matrix\n",
    "from sklearn.metrics import roc_curve\n",
    "from sklearn.metrics import accuracy_score, precision_score, recall_score, f1_score, roc_auc_score\n",
    "from imblearn.metrics import geometric_mean_score\n",
    "\n",
    "from sklearn.neighbors import KNeighborsClassifier\n",
    "from sklearn.ensemble import RandomForestClassifier\n",
    "from sklearn.ensemble import GradientBoostingClassifier\n",
    "import time"
   ]
  },
  {
   "cell_type": "code",
   "execution_count": 27,
   "id": "f1315d51",
   "metadata": {},
   "outputs": [
    {
     "name": "stdout",
     "output_type": "stream",
     "text": [
      "KNN 모델 + 시간 : 0.00000 초\n",
      "         Predict[0]  Predict[1]\n",
      "True[0]        2721         194\n",
      "True[1]           0        2961\n",
      "\n",
      "정확도 : 0.967 (train 데이터셋 정확도 : 0.975) \n",
      "정밀도 : 0.939 \n",
      "재현율 : 1.000 \n",
      "f1-score : 0.968 \n",
      "AUC : 0.967 \n",
      "기하평균 : 0.966 \n",
      "\n"
     ]
    }
   ],
   "source": [
    "#KNN\n",
    "knn=KNeighborsClassifier()\n",
    "knn.fit(X_train, y_train)\n",
    "start = time.time()\n",
    "end = time.time() - start\n",
    "confmat=pd.DataFrame(confusion_matrix(y_test, knn.predict(X_test)),\n",
    "                    index=['True[0]', 'True[1]'],\n",
    "                    columns=['Predict[0]', 'Predict[1]'])\n",
    "accuracy = accuracy_score(y_test, knn.predict(X_test))\n",
    "precision = precision_score(y_test, knn.predict(X_test))\n",
    "recall = recall_score(y_test, knn.predict(X_test))\n",
    "f1 = f1_score(y_test, knn.predict(X_test))\n",
    "AUC = roc_auc_score(y_test, knn.predict(X_test))\n",
    "g_means = geometric_mean_score(y_test, knn.predict(X_test))\n",
    "print(\"KNN 모델 + 시간 : %.5f 초\" % (end))\n",
    "print(confmat)\n",
    "print(\"\\n정확도 : {:.3f} (train 데이터셋 정확도 : {:.3f}) \\n정밀도 : {:.3f} \\n재현율 : {:.3f} \\nf1-score : {:.3f} \\nAUC : {:.3f} \\n기하평균 : {:.3f} \\n\".format(accuracy, \n",
    "                                    knn.score(X_train, y_train), precision, recall, f1, AUC, g_means))"
   ]
  },
  {
   "cell_type": "code",
   "execution_count": 29,
   "id": "a254de0e",
   "metadata": {},
   "outputs": [
    {
     "name": "stdout",
     "output_type": "stream",
     "text": [
      "RandomForest 모델 + 시간 : 0.00000 초\n",
      "         Predict[0]  Predict[1]\n",
      "True[0]        2874          41\n",
      "True[1]           5        2956\n",
      "\n",
      "정확도 : 0.992 (train 데이터셋 정확도 : 0.999) \n",
      "정밀도 : 0.986 \n",
      "재현율 : 0.998 \n",
      "f1-score : 0.992 \n",
      "AUC : 0.992 \n",
      "기하평균 : 0.992 \n",
      "\n"
     ]
    }
   ],
   "source": [
    "#RandomForest\n",
    "forest = RandomForestClassifier(n_estimators=5, random_state=2)\n",
    "forest.fit(X_train, y_train)\n",
    "start = time.time()\n",
    "end = time.time() - start\n",
    "confmat=pd.DataFrame(confusion_matrix(y_test, forest.predict(X_test)),\n",
    "                    index=['True[0]', 'True[1]'],\n",
    "                    columns=['Predict[0]', 'Predict[1]'])\n",
    "accuracy = accuracy_score(y_test, forest.predict(X_test))\n",
    "precision = precision_score(y_test, forest.predict(X_test))\n",
    "recall = recall_score(y_test, forest.predict(X_test))\n",
    "f1 = f1_score(y_test, forest.predict(X_test))\n",
    "AUC = roc_auc_score(y_test, forest.predict(X_test))\n",
    "g_means = geometric_mean_score(y_test, forest.predict(X_test))\n",
    "print(\"RandomForest 모델 + 시간 : %.5f 초\" % (end))\n",
    "print(confmat)\n",
    "print(\"\\n정확도 : {:.3f} (train 데이터셋 정확도 : {:.3f}) \\n정밀도 : {:.3f} \\n재현율 : {:.3f} \\nf1-score : {:.3f} \\nAUC : {:.3f} \\n기하평균 : {:.3f} \\n\".format(accuracy, \n",
    "                                    forest.score(X_train, y_train), precision, recall, f1, AUC, g_means))"
   ]
  },
  {
   "cell_type": "code",
   "execution_count": 30,
   "id": "65683574",
   "metadata": {},
   "outputs": [
    {
     "name": "stdout",
     "output_type": "stream",
     "text": [
      "GradientBoosting 모델 + 시간 : 0.00000 초\n",
      "         Predict[0]  Predict[1]\n",
      "True[0]        2835          80\n",
      "True[1]          31        2930\n",
      "\n",
      "정확도 : 0.981 (train 데이터셋 정확도 : 0.984) \n",
      "정밀도 : 0.973 \n",
      "재현율 : 0.990 \n",
      "f1-score : 0.981 \n",
      "AUC : 0.981 \n",
      "기하평균 : 0.981 \n",
      "\n"
     ]
    }
   ],
   "source": [
    "#GradientBoosting\n",
    "gbrt = GradientBoostingClassifier(random_state=0)\n",
    "gbrt.fit(X_train, y_train)\n",
    "start = time.time()\n",
    "end = time.time() - start\n",
    "confmat=pd.DataFrame(confusion_matrix(y_test, gbrt.predict(X_test)),\n",
    "                    index=['True[0]', 'True[1]'],\n",
    "                    columns=['Predict[0]', 'Predict[1]'])\n",
    "accuracy = accuracy_score(y_test, gbrt.predict(X_test))\n",
    "precision = precision_score(y_test, gbrt.predict(X_test))\n",
    "recall = recall_score(y_test, gbrt.predict(X_test))\n",
    "f1 = f1_score(y_test, gbrt.predict(X_test))\n",
    "AUC = roc_auc_score(y_test, gbrt.predict(X_test))\n",
    "g_means = geometric_mean_score(y_test, gbrt.predict(X_test))\n",
    "print(\"GradientBoosting 모델 + 시간 : %.5f 초\" % (end))\n",
    "print(confmat)\n",
    "print(\"\\n정확도 : {:.3f} (train 데이터셋 정확도 : {:.3f}) \\n정밀도 : {:.3f} \\n재현율 : {:.3f} \\nf1-score : {:.3f} \\nAUC : {:.3f} \\n기하평균 : {:.3f} \\n\".format(accuracy, \n",
    "                                    gbrt.score(X_train, y_train), precision, recall, f1, AUC, g_means))"
   ]
  },
  {
   "cell_type": "markdown",
   "id": "86e1c054",
   "metadata": {},
   "source": [
    "# Hyper Parameter Tunning\n",
    "## (1) KNN"
   ]
  },
  {
   "cell_type": "code",
   "execution_count": 31,
   "id": "daaf2460",
   "metadata": {},
   "outputs": [
    {
     "data": {
      "text/plain": [
       "{'algorithm': 'auto',\n",
       " 'leaf_size': 30,\n",
       " 'metric': 'minkowski',\n",
       " 'metric_params': None,\n",
       " 'n_jobs': None,\n",
       " 'n_neighbors': 5,\n",
       " 'p': 2,\n",
       " 'weights': 'uniform'}"
      ]
     },
     "execution_count": 31,
     "metadata": {},
     "output_type": "execute_result"
    }
   ],
   "source": [
    "# 파라미터 값 확인\n",
    "knn.get_params()"
   ]
  },
  {
   "cell_type": "code",
   "execution_count": 32,
   "id": "9775a190",
   "metadata": {},
   "outputs": [
    {
     "data": {
      "image/png": "[encoded data removed]",
      "text/plain": [
       "<Figure size 720x720 with 1 Axes>"
      ]
     },
     "metadata": {
      "needs_background": "light"
     },
     "output_type": "display_data"
    }
   ],
   "source": [
    "from sklearn import neighbors\n",
    "from sklearn.model_selection import cross_val_score\n",
    "import numpy as np\n",
    "plt.figure(figsize=(10,10))\n",
    "\n",
    "k_range = np.arange(1,100)\n",
    "k_scores = []\n",
    "\n",
    "for k in k_range:\n",
    "    knn=neighbors.KNeighborsClassifier(k)\n",
    "    scores = cross_val_score(knn, X_train, y_train, cv=10, scoring=\"roc_auc\")\n",
    "    k_scores.append(scores.mean())\n",
    "    \n",
    "plt.plot(k_range, k_scores)\n",
    "plt.show()"
   ]
  },
  {
   "cell_type": "code",
   "execution_count": 33,
   "id": "6dec009b",
   "metadata": {},
   "outputs": [
    {
     "data": {
      "text/html": [
       "<div>\n",
       "<style scoped>\n",
       "    .dataframe tbody tr th:only-of-type {\n",
       "        vertical-align: middle;\n",
       "    }\n",
       "\n",
       "    .dataframe tbody tr th {\n",
       "        vertical-align: top;\n",
       "    }\n",
       "\n",
       "    .dataframe thead th {\n",
       "        text-align: right;\n",
       "    }\n",
       "</style>\n",
       "<table border=\"1\" class=\"dataframe\">\n",
       "  <thead>\n",
       "    <tr style=\"text-align: right;\">\n",
       "      <th></th>\n",
       "      <th>k</th>\n",
       "      <th>roc_auc</th>\n",
       "    </tr>\n",
       "  </thead>\n",
       "  <tbody>\n",
       "    <tr>\n",
       "      <th>0</th>\n",
       "      <td>19</td>\n",
       "      <td>0.991445</td>\n",
       "    </tr>\n",
       "    <tr>\n",
       "      <th>1</th>\n",
       "      <td>18</td>\n",
       "      <td>0.991443</td>\n",
       "    </tr>\n",
       "    <tr>\n",
       "      <th>2</th>\n",
       "      <td>23</td>\n",
       "      <td>0.991419</td>\n",
       "    </tr>\n",
       "    <tr>\n",
       "      <th>3</th>\n",
       "      <td>20</td>\n",
       "      <td>0.991405</td>\n",
       "    </tr>\n",
       "    <tr>\n",
       "      <th>4</th>\n",
       "      <td>30</td>\n",
       "      <td>0.991275</td>\n",
       "    </tr>\n",
       "  </tbody>\n",
       "</table>\n",
       "</div>"
      ],
      "text/plain": [
       "    k   roc_auc\n",
       "0  19  0.991445\n",
       "1  18  0.991443\n",
       "2  23  0.991419\n",
       "3  20  0.991405\n",
       "4  30  0.991275"
      ]
     },
     "execution_count": 33,
     "metadata": {},
     "output_type": "execute_result"
    }
   ],
   "source": [
    "result = pd.DataFrame()\n",
    "result['k'] = k_range\n",
    "result['roc_auc'] = k_scores\n",
    "result = result.sort_values(by=\"roc_auc\", ascending=False).reset_index(drop=True)\n",
    "result.head()"
   ]
  },
  {
   "cell_type": "code",
   "execution_count": 34,
   "id": "66edfd7a",
   "metadata": {},
   "outputs": [
    {
     "name": "stdout",
     "output_type": "stream",
     "text": [
      "Fitting 5 folds for each of 36 candidates, totalling 180 fits\n",
      "KNN 모델 + Parameter Tunning 적용 + 시간 : 65.11473 초\n",
      "         Predict[0]  Predict[1]\n",
      "True[0]        2771         144\n",
      "True[1]           0        2961\n",
      "\n",
      "정확도 : 0.975 (train 데이터셋 정확도 : 1.000) \n",
      "정밀도 : 0.954 \n",
      "재현율 : 1.000 \n",
      "f1-score : 0.976 \n",
      "AUC : 0.975 \n",
      "기하평균 : 0.975 \n",
      "\n",
      "KNN Best Estimator: KNeighborsClassifier(leaf_size=20, n_neighbors=6, p=1, weights='distance')\n"
     ]
    }
   ],
   "source": [
    "#KNN 하이퍼 파라미터 튜닝\n",
    "from sklearn.model_selection import GridSearchCV\n",
    "\n",
    "parameters_knn = { 'n_neighbors' : [6],\n",
    "                 'weights' : ['uniform','distance'],\n",
    "                 'metric' : ['minkowski','euclidean','manhattan'],\n",
    "                 'p':[1,2],\n",
    "                 'leaf_size':[20,30,40]}\n",
    "knn=neighbors.KNeighborsClassifier(k)\n",
    "clf_knn = GridSearchCV(knn, param_grid=parameters_knn, cv = 5, scoring = \"roc_auc\", n_jobs = -1, verbose = 2)\n",
    "start = time.time()\n",
    "clf_knn.fit(X_train, y_train)\n",
    "end = time.time() - start\n",
    "confmat=pd.DataFrame(confusion_matrix(y_test, clf_knn.predict(X_test)),\n",
    "                    index=['True[0]', 'True[1]'],\n",
    "                    columns=['Predict[0]', 'Predict[1]'])\n",
    "accuracy = accuracy_score(y_test, clf_knn.predict(X_test))\n",
    "precision = precision_score(y_test, clf_knn.predict(X_test))\n",
    "recall = recall_score(y_test, clf_knn.predict(X_test))\n",
    "f1 = f1_score(y_test, clf_knn.predict(X_test))\n",
    "AUC = roc_auc_score(y_test, clf_knn.predict(X_test))\n",
    "g_means = geometric_mean_score(y_test, clf_knn.predict(X_test))\n",
    "print(\"KNN 모델 + Parameter Tunning 적용 + 시간 : %.5f 초\" % (end))\n",
    "print(confmat)\n",
    "print(\"\\n정확도 : {:.3f} (train 데이터셋 정확도 : {:.3f}) \\n정밀도 : {:.3f} \\n재현율 : {:.3f} \\nf1-score : {:.3f} \\nAUC : {:.3f} \\n기하평균 : {:.3f} \\n\".format(accuracy, \n",
    "                                    clf_knn.score(X_train, y_train), precision, recall, f1, AUC, g_means))\n",
    "print(\"KNN Best Estimator: {}\".format(clf_knn.best_estimator_))"
   ]
  },
  {
   "cell_type": "markdown",
   "id": "2ff24949",
   "metadata": {},
   "source": [
    "## (2) RandomForest"
   ]
  },
  {
   "cell_type": "code",
   "execution_count": 35,
   "id": "a4b621ee",
   "metadata": {},
   "outputs": [
    {
     "data": {
      "text/plain": [
       "{'bootstrap': True,\n",
       " 'ccp_alpha': 0.0,\n",
       " 'class_weight': None,\n",
       " 'criterion': 'gini',\n",
       " 'max_depth': None,\n",
       " 'max_features': 'sqrt',\n",
       " 'max_leaf_nodes': None,\n",
       " 'max_samples': None,\n",
       " 'min_impurity_decrease': 0.0,\n",
       " 'min_samples_leaf': 1,\n",
       " 'min_samples_split': 2,\n",
       " 'min_weight_fraction_leaf': 0.0,\n",
       " 'n_estimators': 5,\n",
       " 'n_jobs': None,\n",
       " 'oob_score': False,\n",
       " 'random_state': 2,\n",
       " 'verbose': 0,\n",
       " 'warm_start': False}"
      ]
     },
     "execution_count": 35,
     "metadata": {},
     "output_type": "execute_result"
    }
   ],
   "source": [
    "# 파라미터 값 확인\n",
    "forest.get_params()"
   ]
  },
  {
   "cell_type": "code",
   "execution_count": 36,
   "id": "e76b90ce",
   "metadata": {},
   "outputs": [
    {
     "name": "stdout",
     "output_type": "stream",
     "text": [
      "Fitting 5 folds for each of 81 candidates, totalling 405 fits\n",
      "RandomFoerest모델 + Parameter Tunning 적용 + 시간 : 811.01409 초\n",
      "         Predict[0]  Predict[1]\n",
      "True[0]        2906           9\n",
      "True[1]           8        2953\n",
      "\n",
      "정확도 : 0.997 (train 데이터셋 정확도 : 1.000) \n",
      "정밀도 : 0.997 \n",
      "재현율 : 0.997 \n",
      "f1-score : 0.997 \n",
      "AUC : 0.997 \n",
      "기하평균 : 0.997 \n",
      "\n",
      "Best Estimator: RandomForestClassifier(n_estimators=500, random_state=2)\n"
     ]
    }
   ],
   "source": [
    "#RandomForest 하이퍼 파라미터 튜닝\n",
    "\n",
    "from sklearn.model_selection import GridSearchCV\n",
    "from sklearn.model_selection import KFold\n",
    "\n",
    "parameters_rf = {\n",
    "     'n_estimators': [100,200,500],\n",
    "     'max_depth' : [None,5,10],\n",
    "    'min_samples_leaf' : [1,2,3],\n",
    "    'min_samples_split' : [2,5,7]\n",
    "}\n",
    "\n",
    "clf_rf = GridSearchCV(forest, param_grid=parameters_rf, cv = 5, scoring = \"roc_auc\", n_jobs = -1, verbose = 2)\n",
    "start = time.time()\n",
    "clf_rf.fit(X_train, y_train)\n",
    "end = time.time() - start\n",
    "confmat=pd.DataFrame(confusion_matrix(y_test, clf_rf.predict(X_test)),\n",
    "                    index=['True[0]', 'True[1]'],\n",
    "                    columns=['Predict[0]', 'Predict[1]'])\n",
    "accuracy = accuracy_score(y_test, clf_rf.predict(X_test))\n",
    "precision = precision_score(y_test, clf_rf.predict(X_test))\n",
    "recall = recall_score(y_test, clf_rf.predict(X_test))\n",
    "f1 = f1_score(y_test, clf_rf.predict(X_test))\n",
    "AUC = roc_auc_score(y_test, clf_rf.predict(X_test))\n",
    "g_means = geometric_mean_score(y_test, clf_rf.predict(X_test))\n",
    "print(\"RandomFoerest모델 + Parameter Tunning 적용 + 시간 : %.5f 초\" % ( end))\n",
    "print(confmat)\n",
    "print(\"\\n정확도 : {:.3f} (train 데이터셋 정확도 : {:.3f}) \\n정밀도 : {:.3f} \\n재현율 : {:.3f} \\nf1-score : {:.3f} \\nAUC : {:.3f} \\n기하평균 : {:.3f} \\n\".format(accuracy, \n",
    "                                    clf_rf.score(X_train, y_train), precision, recall, f1, AUC, g_means))\n",
    "print(\"Best Estimator: {}\".format(clf_rf.best_estimator_))"
   ]
  },
  {
   "cell_type": "markdown",
   "id": "86d98ee9",
   "metadata": {},
   "source": [
    "## (3) GBM"
   ]
  },
  {
   "cell_type": "code",
   "execution_count": 37,
   "id": "fbf8e9b4",
   "metadata": {},
   "outputs": [
    {
     "data": {
      "text/plain": [
       "{'ccp_alpha': 0.0,\n",
       " 'criterion': 'friedman_mse',\n",
       " 'init': None,\n",
       " 'learning_rate': 0.1,\n",
       " 'loss': 'log_loss',\n",
       " 'max_depth': 3,\n",
       " 'max_features': None,\n",
       " 'max_leaf_nodes': None,\n",
       " 'min_impurity_decrease': 0.0,\n",
       " 'min_samples_leaf': 1,\n",
       " 'min_samples_split': 2,\n",
       " 'min_weight_fraction_leaf': 0.0,\n",
       " 'n_estimators': 100,\n",
       " 'n_iter_no_change': None,\n",
       " 'random_state': 0,\n",
       " 'subsample': 1.0,\n",
       " 'tol': 0.0001,\n",
       " 'validation_fraction': 0.1,\n",
       " 'verbose': 0,\n",
       " 'warm_start': False}"
      ]
     },
     "execution_count": 37,
     "metadata": {},
     "output_type": "execute_result"
    }
   ],
   "source": [
    "# 파라미터 확인\n",
    "gbrt.get_params()"
   ]
  },
  {
   "cell_type": "code",
   "execution_count": 38,
   "id": "4425612c",
   "metadata": {},
   "outputs": [
    {
     "name": "stdout",
     "output_type": "stream",
     "text": [
      "Fitting 5 folds for each of 12 candidates, totalling 60 fits\n",
      "GrdientBoosting모델 + Parameter Tunning 적용 + 시간 : 228.58404 초\n",
      "         Predict[0]  Predict[1]\n",
      "True[0]        2903          12\n",
      "True[1]          10        2951\n",
      "\n",
      "정확도 : 0.996 (train 데이터셋 정확도 : 1.000) \n",
      "정밀도 : 0.996 \n",
      "재현율 : 0.997 \n",
      "f1-score : 0.996 \n",
      "AUC : 0.996 \n",
      "기하평균 : 0.996 \n",
      "\n",
      "GBM Best Estimator: GradientBoostingClassifier(n_estimators=500, random_state=10)\n"
     ]
    }
   ],
   "source": [
    "#KGradientBoosting 하이퍼 파라미터 튜닝\n",
    "from sklearn.model_selection import GridSearchCV\n",
    "\n",
    "parameters_gbm = {\n",
    "    'random_state':[10],\n",
    "     'n_estimators': [50,100,200,500],\n",
    "     'learning_rate': [0.01,0.1,1]\n",
    "}\n",
    "\n",
    "clf_gbm = GridSearchCV(gbrt, param_grid=parameters_gbm, cv = 5, scoring = \"roc_auc\", n_jobs = -1, verbose = 2)\n",
    "start = time.time()\n",
    "clf_gbm.fit(X_train, y_train)\n",
    "end = time.time() - start\n",
    "confmat=pd.DataFrame(confusion_matrix(y_test, clf_gbm.predict(X_test)),\n",
    "                    index=['True[0]', 'True[1]'],\n",
    "                    columns=['Predict[0]', 'Predict[1]'])\n",
    "accuracy = accuracy_score(y_test, clf_gbm.predict(X_test))\n",
    "precision = precision_score(y_test, clf_gbm.predict(X_test))\n",
    "recall = recall_score(y_test, clf_gbm.predict(X_test))\n",
    "f1 = f1_score(y_test, clf_gbm.predict(X_test))\n",
    "AUC = roc_auc_score(y_test, clf_gbm.predict(X_test))\n",
    "g_means = geometric_mean_score(y_test, clf_gbm.predict(X_test))\n",
    "print(\"GrdientBoosting모델 + Parameter Tunning 적용 + 시간 : %.5f 초\" % (end))\n",
    "print(confmat)\n",
    "print(\"\\n정확도 : {:.3f} (train 데이터셋 정확도 : {:.3f}) \\n정밀도 : {:.3f} \\n재현율 : {:.3f} \\nf1-score : {:.3f} \\nAUC : {:.3f} \\n기하평균 : {:.3f} \\n\".format(accuracy, \n",
    "                                    clf_gbm.score(X_train, y_train), precision, recall, f1, AUC, g_means))\n",
    "print(\"GBM Best Estimator: {}\".format(clf_gbm.best_estimator_))"
   ]
  },
  {
   "cell_type": "markdown",
   "id": "2885cd63",
   "metadata": {},
   "source": [
    "# 분석 결과"
   ]
  },
  {
   "cell_type": "markdown",
   "id": "fd9329ee",
   "metadata": {},
   "source": [
    "# Feature Importance Plot"
   ]
  },
  {
   "cell_type": "code",
   "execution_count": 39,
   "id": "8956d7b3",
   "metadata": {},
   "outputs": [
    {
     "data": {
      "image/png": "[encoded data removed]",
      "text/plain": [
       "<Figure size 648x432 with 1 Axes>"
      ]
     },
     "metadata": {
      "needs_background": "light"
     },
     "output_type": "display_data"
    }
   ],
   "source": [
    "#변수 중요도 확인\n",
    "import numpy as np\n",
    "\n",
    "def plot_feature_importances(model):\n",
    "    plt.rcParams[\"figure.figsize\"] = (9,6)\n",
    "    n_features = len(df_sc.columns[1:])  # 30개 \n",
    "    plt.barh(np.arange(n_features), model.feature_importances_, align='center') \n",
    "    plt.yticks(np.arange(n_features), df_sc.columns[1:])   # 30개의 눈금을 표시하고 눈금 레이블을 변수 이름으로 지정\n",
    "    plt.xlabel(\"feature importance\")\n",
    "    plt.ylabel(\"feature\")\n",
    "    plt.ylim(-1, n_features) #Y 축 범위 지정 (-1 ~ 30)\n",
    "\n",
    "plot_feature_importances(forest)"
   ]
  },
  {
   "cell_type": "code",
   "execution_count": 40,
   "id": "645bc0a6",
   "metadata": {},
   "outputs": [
    {
     "data": {
      "image/png": "[encoded data removed]",
      "text/plain": [
       "<Figure size 648x432 with 1 Axes>"
      ]
     },
     "metadata": {
      "needs_background": "light"
     },
     "output_type": "display_data"
    }
   ],
   "source": [
    "plot_feature_importances(gbrt)"
   ]
  },
  {
   "cell_type": "markdown",
   "id": "57a71578",
   "metadata": {},
   "source": [
    "RandomForest와 GradientBoosting 모두 '요단백', '연령대코드', '혈색소', '음주여부' 순으로 중요도가 높음을 알 수 있음"
   ]
  },
  {
   "cell_type": "markdown",
   "id": "c42cfb90",
   "metadata": {},
   "source": [
    "# 평가지표 비교"
   ]
  },
  {
   "cell_type": "markdown",
   "id": "a6e3af68",
   "metadata": {},
   "source": [
    "1. KNN \\\n",
    "    정확도 : 0.967 (train 데이터셋 정확도 : 0.975) \\\n",
    "    정밀도 : 0.939 \\\n",
    "    재현율 : 1.000 \\\n",
    "    f1-score : 0.968 \\\n",
    "    AUC : 0.967 \\\n",
    "    기하평균 : 0.966  \n",
    "\n",
    "2. RandomForest \\\n",
    "    정확도 : 0.992 (train 데이터셋 정확도 : 0.999) \\\n",
    "    정밀도 : 0.986 \\\n",
    "    재현율 : 0.998 \\\n",
    "    f1-score : 0.992 \\\n",
    "    AUC : 0.992 \\\n",
    "    기하평균 : 0.992 \n",
    "\n",
    "3. GradientBoosting \\\n",
    "    정확도 : 0.981 (train 데이터셋 정확도 : 0.984) \\\n",
    "    정밀도 : 0.973 \\\n",
    "    재현율 : 0.990 \\\n",
    "    f1-score : 0.981 \\\n",
    "    AUC : 0.981 \\\n",
    "    기하평균 : 0.981 "
   ]
  },
  {
   "cell_type": "markdown",
   "id": "0f7dd72d",
   "metadata": {},
   "source": [
    "### 하이퍼 파라미터 튜닝 후\n",
    "1. KNN \\\n",
    "    정확도 : 0.975 (train 데이터셋 정확도 : 1.000) \\\n",
    "    정밀도 : 0.954 \\\n",
    "    재현율 : 1.000 \\\n",
    "    f1-score : 0.976 \\\n",
    "    AUC : 0.975 \\\n",
    "    기하평균 : 0.975 \n",
    "\n",
    "2. RandomForest\\\n",
    "    정확도 : 0.997 (train 데이터셋 정확도 : 1.000) \\\n",
    "    정밀도 : 0.997 \\\n",
    "    재현율 : 0.997 \\\n",
    "    f1-score : 0.997 \\\n",
    "    AUC : 0.997 \\\n",
    "    기하평균 : 0.997 \n",
    "\n",
    "3. GradientBoosting \\\n",
    "    정확도 : 0.996 (train 데이터셋 정확도 : 1.000) \\\n",
    "    정밀도 : 0.996 \\\n",
    "    재현율 : 0.997 \\\n",
    "    f1-score : 0.996 \\\n",
    "    AUC : 0.996 \\\n",
    "    기하평균 : 0.996 "
   ]
  },
  {
   "cell_type": "markdown",
   "id": "2657ae33",
   "metadata": {},
   "source": [
    "GridSearch를 통하여 하이퍼파라미터 튜닝을 해본 결과, \\\n",
    "KNN, RandomForest, GradientBoosting 모두 평가지표들이 조금씩 개선된 것을 확인할 수 있음"
   ]
  },
  {
   "cell_type": "code",
   "execution_count": null,
   "id": "abb00a1d",
   "metadata": {},
   "outputs": [],
   "source": []
  }
 ],
 "metadata": {
  "kernelspec": {
   "display_name": "Python 3 (ipykernel)",
   "language": "python",
   "name": "python3"
  },
  "language_info": {
   "codemirror_mode": {
    "name": "ipython",
    "version": 3
   },
   "file_extension": ".py",
   "mimetype": "text/x-python",
   "name": "python",
   "nbconvert_exporter": "python",
   "pygments_lexer": "ipython3",
   "version": "3.9.12"
  }
 },
 "nbformat": 4,
 "nbformat_minor": 5
}
